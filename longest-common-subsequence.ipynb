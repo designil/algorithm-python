{
 "cells": [
  {
   "cell_type": "code",
   "execution_count": 1,
   "metadata": {
    "collapsed": true
   },
   "outputs": [],
   "source": [
    "# LCS (Longest Common Subsequences)\n",
    "# Definition: longest string that is common in same order between 2 strings.\n",
    "# Example: \"ABCDEF\" and \"FAYBHD\" -> LCS is \"ABD\"\n",
    "# Useful Video: Explain about LCS algorithm https://www.youtube.com/watch?v=NnD96abizww"
   ]
  },
  {
   "cell_type": "code",
   "execution_count": 3,
   "metadata": {
    "collapsed": false
   },
   "outputs": [
    {
     "name": "stdout",
     "output_type": "stream",
     "text": [
      "LCD: 4\n",
      "Subsequence String: ABDF\n"
     ]
    }
   ],
   "source": [
    "string1 = \"ABCDEF\"\n",
    "string2 = \"FAYBHDF\"\n",
    "\n",
    "# - Build table\n",
    "# How it works: explained in Youtube video\n",
    "table = [ [0 for i in range(len(string2)+1)] for i in range(len(string1)+1) ]\n",
    "for i in range(1, len(string1)+1):\n",
    "    for j in range(1, len(string2)+1):\n",
    "        char1 = string1[i-1]\n",
    "        char2 = string2[j-1]\n",
    "        if(char1 == char2):\n",
    "            table[i][j] = table[i-1][j-1] + 1\n",
    "        else:\n",
    "            table[i][j] = max(table[i-1][j], table[i][j-1])\n",
    "    \n",
    "# - Summarize string\n",
    "subseq = '';\n",
    "\n",
    "# Start from bottom most point\n",
    "x = len(string1)\n",
    "y = len(string2)\n",
    "while (x != 0 and y != 0):\n",
    "    # if value in (x, y) is from left side, move to left\n",
    "    if(table[x][y] == table[x][y-1]):\n",
    "        y = y-1\n",
    "    # if value in (x, y) is from above, move to above\n",
    "    elif(table[x][y] == table[x-1][y]):\n",
    "        x = x-1\n",
    "    # if value in (x, y) is from diagonal side, move to diagonal and also record the string\n",
    "    else:\n",
    "        subseq = string1[x-1] + subseq\n",
    "        x = x-1\n",
    "        y = y-1\n",
    "        \n",
    "print('LCD:', table[i][j])\n",
    "print('Subsequence String:', subseq)"
   ]
  },
  {
   "cell_type": "code",
   "execution_count": null,
   "metadata": {
    "collapsed": true
   },
   "outputs": [],
   "source": []
  }
 ],
 "metadata": {
  "kernelspec": {
   "display_name": "Python 3",
   "language": "python",
   "name": "python3"
  },
  "language_info": {
   "codemirror_mode": {
    "name": "ipython",
    "version": 3
   },
   "file_extension": ".py",
   "mimetype": "text/x-python",
   "name": "python",
   "nbconvert_exporter": "python",
   "pygments_lexer": "ipython3",
   "version": "3.5.1"
  }
 },
 "nbformat": 4,
 "nbformat_minor": 0
}
